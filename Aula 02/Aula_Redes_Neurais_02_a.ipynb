{
  "nbformat": 4,
  "nbformat_minor": 0,
  "metadata": {
    "colab": {
      "name": "Aula - Redes Neurais 02_a.ipynb",
      "provenance": [],
      "collapsed_sections": []
    },
    "kernelspec": {
      "name": "python3",
      "display_name": "Python 3"
    },
    "language_info": {
      "name": "python"
    }
  },
  "cells": [
    {
      "cell_type": "markdown",
      "source": [
        "<center>\n",
        "\n",
        "<img src=\"https://www.itv.org/wp-content/uploads/2021/10/logo-itv.svg\" width=\"500\" height=\"200\" />\n",
        "\n",
        "</center>"
      ],
      "metadata": {
        "id": "vbRKkgRjMBEv"
      }
    },
    {
      "cell_type": "markdown",
      "source": [
        "# <center> **Especialização em Automação** </center>\n",
        "\n",
        "\n",
        "## <center> **Inteligência Computacional** </center>\n",
        "\n",
        "---\n",
        "### <center> **Redes Neurais - Exemplo LSTM** </center>\n",
        "\n",
        "### <center> Professor: André Almeida Santos</center>\n",
        "\n",
        "---"
      ],
      "metadata": {
        "id": "V_LG87f3MEPd"
      }
    },
    {
      "cell_type": "markdown",
      "source": [
        "# Problema de regressão para previsão temporal com LSTM.\n",
        "\n",
        "Os dados do exemplo consistem em totais mensais de passageiros aéreos de janeiro de 1949 a dezembro de 1960 de um dataset bem famoso e disponível online [aqui](http://people.se.cmich.edu/lee1c/spss/prj_airlinepassengers.htm)."
      ],
      "metadata": {
        "id": "WT7YTDPMNt5B"
      }
    },
    {
      "cell_type": "code",
      "source": [
        "# Vamos começar com os imports necessários\n",
        "import tensorflow as tf\n",
        "from tensorflow import keras\n",
        "\n",
        "from keras.layers import Dense, Dropout, LSTM\n",
        "\n",
        "from sklearn.preprocessing import MinMaxScaler\n",
        "\n",
        "import numpy as np\n",
        "import pandas as pd\n",
        "import matplotlib.pyplot as plt\n",
        "\n",
        "seed = 10\n",
        "np.random.seed(seed)\n",
        "tf.random.set_seed(seed)"
      ],
      "metadata": {
        "id": "f2buamuiMGfB"
      },
      "execution_count": null,
      "outputs": []
    },
    {
      "cell_type": "markdown",
      "source": [
        "## Carregando os dados"
      ],
      "metadata": {
        "id": "52Egk6t3OznZ"
      }
    },
    {
      "cell_type": "code",
      "source": [
        "dados = pd.read_csv('https://query.data.world/s/bdhpzucmfzowx44mhnipyfd2qv7ufu')\n",
        "\n",
        "dados = dados.set_index(\"Month\") # define como indice a coluna \"Month\"\n",
        "\n",
        "dados.index = pd.to_datetime(dados.index, format = '%Y-%m') # converte a coluna Time (df.index) para formato datetime"
      ],
      "metadata": {
        "id": "TDQJypQoOtcH"
      },
      "execution_count": null,
      "outputs": []
    },
    {
      "cell_type": "code",
      "source": [
        "dados"
      ],
      "metadata": {
        "id": "TW8ybay0O5kS"
      },
      "execution_count": null,
      "outputs": []
    },
    {
      "cell_type": "code",
      "source": [
        "# visualização dos dados\n",
        "\n",
        "plt.rcParams['figure.figsize'] = 19, 6 # ajusta as dimensões do grafico\n",
        "plt.rcParams.update({'font.size': 20}) # ajusta tamanho da fonte\n",
        "plt.plot(dados, color = 'blue', marker = \"o\")\n",
        "plt.title(\"Passageiros Internacionais Transportados\", fontsize = 22)\n",
        "plt.ylabel(\"Passageiros\")\n",
        "plt.xlabel(\"Data\")\n",
        "plt.show()"
      ],
      "metadata": {
        "id": "RQo1SIWCO_IS"
      },
      "execution_count": null,
      "outputs": []
    },
    {
      "cell_type": "markdown",
      "source": [
        "## Pre processando os dados"
      ],
      "metadata": {
        "id": "Pd6fkZSWPnSd"
      }
    },
    {
      "cell_type": "code",
      "source": [
        "tamanho_dados_treino = int(len(dados) * 0.75)  # cria o tamanho dos dados inteiros \n",
        "\n",
        "dados_treino = dados[0:tamanho_dados_treino] # separa os dados de treino para criar o modelo\n",
        "dados_teste = dados[tamanho_dados_treino:len(dados)] # separa os dados para testar o modelo\n",
        "\n",
        "# mostra como ficará a divisão dos dados \n",
        "plt.rcParams['figure.figsize'] = 19, 6\n",
        "plt.rcParams.update({'font.size': 20})\n",
        "plt.plot(dados_treino, color = 'blue', marker = \"o\")\n",
        "plt.plot(dados_teste, color = 'red', marker = \"o\")\n",
        "plt.grid(True)\n",
        "plt.show()"
      ],
      "metadata": {
        "id": "bft3NBGJPfax"
      },
      "execution_count": null,
      "outputs": []
    },
    {
      "cell_type": "code",
      "source": [
        "dados_treino"
      ],
      "metadata": {
        "id": "RVD2i0IbP1RR"
      },
      "execution_count": null,
      "outputs": []
    },
    {
      "cell_type": "markdown",
      "source": [
        "Decompondo a serie com a biblioteca statsmodels"
      ],
      "metadata": {
        "id": "Wu09M9jGQE8n"
      }
    },
    {
      "cell_type": "code",
      "source": [
        "# modelo de decomposição da série\n",
        "from statsmodels.tsa.seasonal import seasonal_decompose\n",
        "\n",
        "result = seasonal_decompose(dados_treino, model = 'multiplicative') \n",
        "result.plot()\n",
        "plt.show()"
      ],
      "metadata": {
        "id": "fKbNIyyZP9vx"
      },
      "execution_count": null,
      "outputs": []
    },
    {
      "cell_type": "markdown",
      "source": [
        "### Análise da importância dos dados passados\n",
        "\n",
        "Vamos usar o **RandomForestRegressor** para determinar os lags mais importantes na previsão atual dentro do último ano."
      ],
      "metadata": {
        "id": "e6q1cy4xTr2k"
      }
    },
    {
      "cell_type": "code",
      "source": [
        "dataframe = pd.DataFrame()\n",
        "\n",
        "for i in range(12, 0, -1):\n",
        "\tdataframe['t-'+str(i)] = dados_treino.shift(i)\n",
        "dataframe['t'] = dados_treino.values\n",
        "\n",
        "dataframe.head(20)"
      ],
      "metadata": {
        "id": "ESph0RoGSRYR"
      },
      "execution_count": null,
      "outputs": []
    },
    {
      "cell_type": "markdown",
      "source": [
        "Agora preciso considerar o seguinte:\n",
        "\n",
        "dados de entrada -> X = t-12,\tt-11,\tt-10,\tt-9,\tt-8,\tt-7, t-6, t-5, t-4, t-3,\tt-2,\tt-1\n",
        "\n",
        "saída -> y = t\n",
        "\n",
        "Quero predizer t em função dos 13 tempos passados com uma random forest.\n",
        "\n",
        "Como a árvore de decisão separa os dados em função da melhor divisão, coseguimos estimar os melhores features para usar na predição com a rede neural.\n"
      ],
      "metadata": {
        "id": "2XHrJx0HVzWX"
      }
    },
    {
      "cell_type": "code",
      "source": [
        "from sklearn.ensemble import RandomForestRegressor\n",
        "\n",
        "# divide entre entradas e saida para o random forest\n",
        "X = dataframe.iloc[12:, 0:-1]\n",
        "y = dataframe.iloc[12:, -1]\n",
        "\n",
        "# fit random forest model\n",
        "model = RandomForestRegressor(n_estimators=500, random_state=1)\n",
        "model.fit(X, y)\n",
        "\n",
        "# mostrar pontuação de importância\n",
        "print(model.feature_importances_)\n",
        "\n",
        "# plot pontuação de importância\n",
        "names = dataframe.columns.values[0:-1]\n",
        "\n",
        "ticks = [i for i in range(len(names))]\n",
        "plt.bar(ticks, model.feature_importances_)\n",
        "plt.xticks(ticks, names)\n",
        "plt.show()"
      ],
      "metadata": {
        "id": "O_V5lg4LVUDC"
      },
      "execution_count": null,
      "outputs": []
    },
    {
      "cell_type": "markdown",
      "source": [
        "### Conhecendo os dados mais importantes, vamos reorganizar nosso dataset conforme as análises."
      ],
      "metadata": {
        "id": "AI2pDxUmXg-M"
      }
    },
    {
      "cell_type": "code",
      "source": [
        "dados_treino_input = dataframe.loc[:, ['t-12', 't-1']][12:]\n",
        "\n",
        "dados_treino_target = dataframe.loc[:, 't'][12:]"
      ],
      "metadata": {
        "id": "yt1aRogWYK2l"
      },
      "execution_count": null,
      "outputs": []
    },
    {
      "cell_type": "code",
      "source": [
        "dados_treino_input"
      ],
      "metadata": {
        "id": "gMkJaXUydmGU"
      },
      "execution_count": null,
      "outputs": []
    },
    {
      "cell_type": "code",
      "source": [
        "dados_treino_target"
      ],
      "metadata": {
        "id": "0OZVoPpEdoer"
      },
      "execution_count": null,
      "outputs": []
    },
    {
      "cell_type": "markdown",
      "source": [
        "### Normalização dos dados"
      ],
      "metadata": {
        "id": "DN8FG5N1eJ5J"
      }
    },
    {
      "cell_type": "code",
      "source": [
        "#normalizando os dados treino de entrada\n",
        "norm_dados_treino = MinMaxScaler(feature_range = (0, 1))\n",
        "\n",
        "dados_treino_input = norm_dados_treino.fit_transform(dados_treino_input)"
      ],
      "metadata": {
        "id": "7pXuugBheO5i"
      },
      "execution_count": null,
      "outputs": []
    },
    {
      "cell_type": "code",
      "source": [
        "# normalizando os dados treino target\n",
        "\n",
        "# primeiro vou colocar os dados no formato array aceito pelo método abaixo.\n",
        "dados_treino_target = np.array(dados_treino_target).reshape(-1,1)\n",
        "\n",
        "norm_dados_treino_target = MinMaxScaler(feature_range = (0, 1))\n",
        "\n",
        "dados_treino_target = norm_dados_treino_target.fit_transform(dados_treino_target)"
      ],
      "metadata": {
        "id": "Q8ID_Qafejoi"
      },
      "execution_count": null,
      "outputs": []
    },
    {
      "cell_type": "code",
      "source": [
        "dados_treino_input"
      ],
      "metadata": {
        "id": "1ARv6EoZej_y"
      },
      "execution_count": null,
      "outputs": []
    },
    {
      "cell_type": "code",
      "source": [
        "# prepara para entrada da rede\n",
        "\n",
        "#dados_treino_input = np.array(dados_treino_input)\n",
        "dados_treino_input = np.reshape(dados_treino_input, (dados_treino_input.shape[0], dados_treino_input.shape[1], 1))\n",
        "\n",
        "dados_treino_input"
      ],
      "metadata": {
        "id": "iL46qvMLfPQC"
      },
      "execution_count": null,
      "outputs": []
    },
    {
      "cell_type": "code",
      "source": [
        "dados_treino_input.shape[:]"
      ],
      "metadata": {
        "id": "-7J8a1Vdg7ky"
      },
      "execution_count": null,
      "outputs": []
    },
    {
      "cell_type": "markdown",
      "source": [
        "## Construindo a rede neural com Tensorflow e keras\n",
        "\n"
      ],
      "metadata": {
        "id": "NPtv6CJCgatO"
      }
    },
    {
      "cell_type": "markdown",
      "source": [
        "Definindo o input"
      ],
      "metadata": {
        "id": "D94HCLeSjzHe"
      }
    },
    {
      "cell_type": "code",
      "source": [
        "inputs = keras.Input(shape=dados_treino_input.shape[1:], name='entrada')"
      ],
      "metadata": {
        "id": "CeSTqxePftfx"
      },
      "execution_count": null,
      "outputs": []
    },
    {
      "cell_type": "code",
      "source": [
        "# inputs: A 3D tensor with shape [batch, timesteps, feature]\n",
        "\n",
        "inputs.shape"
      ],
      "metadata": {
        "id": "rr4h5YnFLyKb"
      },
      "execution_count": null,
      "outputs": []
    },
    {
      "cell_type": "markdown",
      "source": [
        "Definindo as camadas intermediárias"
      ],
      "metadata": {
        "id": "SHmJhCBtjtsQ"
      }
    },
    {
      "cell_type": "code",
      "source": [
        "lstm_int = LSTM(units = 18, return_sequences = True, name='lstm_int_1')(inputs)"
      ],
      "metadata": {
        "id": "q5l7FhlAiUvC"
      },
      "execution_count": null,
      "outputs": []
    },
    {
      "cell_type": "code",
      "source": [
        "lstm_int2 = LSTM(units = 15, return_sequences = True, name='lstm_int_2')(lstm_int)"
      ],
      "metadata": {
        "id": "PD6sE9rIiu9S"
      },
      "execution_count": null,
      "outputs": []
    },
    {
      "cell_type": "code",
      "source": [
        "lstm_int3 = LSTM(units = 10, return_sequences = True, name='lstm_int_3')(lstm_int2)"
      ],
      "metadata": {
        "id": "eqaCwhskQMge"
      },
      "execution_count": null,
      "outputs": []
    },
    {
      "cell_type": "code",
      "source": [
        "drop = Dropout(0.2)(lstm_int3)"
      ],
      "metadata": {
        "id": "q-drOMtsi7Zh"
      },
      "execution_count": null,
      "outputs": []
    },
    {
      "cell_type": "code",
      "source": [
        "lstm_int3 = LSTM(units = 10, name='lstm_3')(drop)"
      ],
      "metadata": {
        "id": "UhRRKbrujHDR"
      },
      "execution_count": null,
      "outputs": []
    },
    {
      "cell_type": "code",
      "source": [
        "drop2 = Dropout(0.2)(lstm_int3)"
      ],
      "metadata": {
        "id": "4NL7AKp6jPbB"
      },
      "execution_count": null,
      "outputs": []
    },
    {
      "cell_type": "markdown",
      "source": [
        "Definindo output"
      ],
      "metadata": {
        "id": "HAyViEmgj06X"
      }
    },
    {
      "cell_type": "code",
      "source": [
        "output = Dense(units = 1, activation = 'linear', name='saida')(drop2)"
      ],
      "metadata": {
        "id": "UquJf2NJjWzR"
      },
      "execution_count": null,
      "outputs": []
    },
    {
      "cell_type": "markdown",
      "source": [
        "Construindo o objeto da rede"
      ],
      "metadata": {
        "id": "yZ7xwHvlj14L"
      }
    },
    {
      "cell_type": "code",
      "source": [
        "modelo = keras.Model(inputs=inputs, outputs=output, name=\"modelo_LSTM\")"
      ],
      "metadata": {
        "id": "H9EE2S4Qj8a5"
      },
      "execution_count": null,
      "outputs": []
    },
    {
      "cell_type": "code",
      "source": [
        "modelo.summary()"
      ],
      "metadata": {
        "id": "OVeTdHT-kB12"
      },
      "execution_count": null,
      "outputs": []
    },
    {
      "cell_type": "code",
      "source": [
        "keras.utils.plot_model(modelo, \"meu_primeiro_modelo_LSTM_com_informação_do_shape.png\", show_shapes=True)"
      ],
      "metadata": {
        "id": "Of1UI8FmkDeR"
      },
      "execution_count": null,
      "outputs": []
    },
    {
      "cell_type": "code",
      "source": [
        "modelo.compile(\n",
        "    loss='mse',\n",
        "    optimizer=tf.keras.optimizers.Adam(learning_rate=0.01),\n",
        "    metrics=[[tf.keras.metrics.RootMeanSquaredError()]],\n",
        ")"
      ],
      "metadata": {
        "id": "VzXjLaQakPww"
      },
      "execution_count": null,
      "outputs": []
    },
    {
      "cell_type": "markdown",
      "source": [
        "## Treinando o modelo"
      ],
      "metadata": {
        "id": "BmbS9LlHl6Mu"
      }
    },
    {
      "cell_type": "code",
      "source": [
        "treino = modelo.fit(dados_treino_input, dados_treino_target, batch_size=8, epochs=500)"
      ],
      "metadata": {
        "id": "9RlytYOhlmzi"
      },
      "execution_count": null,
      "outputs": []
    },
    {
      "cell_type": "code",
      "source": [
        "# plot dos dados de treino\n",
        "\n",
        "plt.title('Erro do modelo durante treino')\n",
        "plt.ylabel('mse')\n",
        "plt.xlabel('Época')\n",
        "plt.plot(treino.history['loss'], label='Treino')\n",
        "plt.legend()\n",
        "plt.show()"
      ],
      "metadata": {
        "id": "NCM1gJMImXJY"
      },
      "execution_count": null,
      "outputs": []
    },
    {
      "cell_type": "code",
      "source": [
        "# plot dos dados de treino\n",
        "\n",
        "plt.title('Erro do modelo durante treino')\n",
        "plt.ylabel('rmse')\n",
        "plt.xlabel('Época')\n",
        "plt.plot(treino.history['root_mean_squared_error'], label='Treino')\n",
        "plt.legend()\n",
        "plt.show()"
      ],
      "metadata": {
        "id": "XhWdr7-kOC4c"
      },
      "execution_count": null,
      "outputs": []
    },
    {
      "cell_type": "markdown",
      "source": [
        "## Prevendo os dados de teste\n",
        "\n",
        "Aqui é preciso pre processar os dados de teste conforme processo do treino."
      ],
      "metadata": {
        "id": "nAYPMd5lpe0A"
      }
    },
    {
      "cell_type": "markdown",
      "source": [
        "Os dados de teste também precisam ser normalizados e formatados conforme os de treino."
      ],
      "metadata": {
        "id": "Tzwqq1ryncxn"
      }
    },
    {
      "cell_type": "code",
      "source": [
        "# Vamos normalizar agora\n",
        "\n",
        "dataframe = pd.DataFrame()\n",
        "\n",
        "for i in range(12, 0, -1):\n",
        "\tdataframe['t-'+str(i)] = dados_teste.shift(i)\n",
        "dataframe['t'] = dados_teste.values\n",
        "\n",
        "dataframe.head(20)"
      ],
      "metadata": {
        "id": "gGr8krtqnaHl"
      },
      "execution_count": null,
      "outputs": []
    },
    {
      "cell_type": "code",
      "source": [
        "dados_teste_input = dataframe.loc[:, ['t-12', 't-1']][12:]\n",
        "\n",
        "dados_teste_target = dataframe.loc[:, 't'][12:]"
      ],
      "metadata": {
        "id": "UhZtNu9ZqNkk"
      },
      "execution_count": null,
      "outputs": []
    },
    {
      "cell_type": "code",
      "source": [
        "dados_teste_target"
      ],
      "metadata": {
        "id": "LgBRjXf8qRxC"
      },
      "execution_count": null,
      "outputs": []
    },
    {
      "cell_type": "code",
      "source": [
        "norm_dados_teste = MinMaxScaler(feature_range = (0, 1))\n",
        "dados_teste_input = norm_dados_teste.fit_transform(dados_teste_input)"
      ],
      "metadata": {
        "id": "KudNx3T2pTEJ"
      },
      "execution_count": null,
      "outputs": []
    },
    {
      "cell_type": "code",
      "source": [
        "dados_teste_target = np.array(dados_teste_target).reshape(-1,1)\n",
        "\n",
        "norm_dados_teste_target = MinMaxScaler(feature_range = (0, 1))\n",
        "norm_dados_teste_target.fit(dados_teste_target)"
      ],
      "metadata": {
        "id": "DiJ28uRCqiT5"
      },
      "execution_count": null,
      "outputs": []
    },
    {
      "cell_type": "code",
      "source": [
        "dados_teste_target"
      ],
      "metadata": {
        "id": "lH5Li1QHq0Hj"
      },
      "execution_count": null,
      "outputs": []
    },
    {
      "cell_type": "code",
      "source": [
        "# prepara para entrada da rede\n",
        "\n",
        "dados_teste_input = np.reshape(dados_teste_input, (dados_teste_input.shape[0], dados_teste_input.shape[1], 1))\n",
        "\n",
        "dados_teste_input"
      ],
      "metadata": {
        "id": "_Z8WTSOBq1eh"
      },
      "execution_count": null,
      "outputs": []
    },
    {
      "cell_type": "code",
      "source": [
        "# prevendo\n",
        "\n",
        "previsoes = modelo.predict(dados_teste_input)"
      ],
      "metadata": {
        "id": "earoE8bArBeR"
      },
      "execution_count": null,
      "outputs": []
    },
    {
      "cell_type": "code",
      "source": [
        "previsoes"
      ],
      "metadata": {
        "id": "ezEqllsqOg1T"
      },
      "execution_count": null,
      "outputs": []
    },
    {
      "cell_type": "code",
      "source": [
        "plt.plot(norm_dados_teste_target.inverse_transform(previsoes), color = 'blue', marker = \"o\", label= 'Previsão')\n",
        "plt.plot(dados_teste_target, color = 'red', marker = \"o\", label='Original')\n",
        "plt.legend()\n",
        "plt.grid(True)\n",
        "plt.show()"
      ],
      "metadata": {
        "id": "7g7uQdOSrgoA"
      },
      "execution_count": null,
      "outputs": []
    },
    {
      "cell_type": "code",
      "source": [
        ""
      ],
      "metadata": {
        "id": "E7F1rOeSvbdi"
      },
      "execution_count": null,
      "outputs": []
    }
  ]
}