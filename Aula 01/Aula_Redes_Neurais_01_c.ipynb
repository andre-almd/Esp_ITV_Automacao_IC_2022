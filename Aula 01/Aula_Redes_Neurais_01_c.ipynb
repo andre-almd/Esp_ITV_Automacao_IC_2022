{
  "nbformat": 4,
  "nbformat_minor": 0,
  "metadata": {
    "colab": {
      "name": "Aula - Redes Neurais 01-c.ipynb",
      "provenance": [],
      "collapsed_sections": []
    },
    "kernelspec": {
      "name": "python3",
      "display_name": "Python 3"
    },
    "language_info": {
      "name": "python"
    }
  },
  "cells": [
    {
      "cell_type": "markdown",
      "source": [
        "<center>\n",
        "\n",
        "<img src=\"https://www.itv.org/wp-content/uploads/2021/10/logo-itv.svg\" width=\"500\" height=\"200\" />\n",
        "\n",
        "</center>"
      ],
      "metadata": {
        "id": "q_-nGhPgrzjb"
      }
    },
    {
      "cell_type": "markdown",
      "source": [
        "# <center> **Especialização em Automação** </center>\n",
        "\n",
        "\n",
        "## <center> **Inteligência Computacional** </center>\n",
        "\n",
        "---\n",
        "### <center> **Desafio Redes Neurais** </center>\n",
        "\n",
        "### <center> Professor: André Almeida Santos</center>\n",
        "\n",
        "---"
      ],
      "metadata": {
        "id": "qlBUIep_r2ru"
      }
    },
    {
      "cell_type": "markdown",
      "source": [
        "# Problema de regressão com dataset de flores Iris\n",
        "\n",
        "Para este problema de regressão, você construirá uma rede neural artificial totalmente conectada.\n",
        "\n",
        "**O que deve ser feito?**\n",
        "\n",
        "Treinar um modelo de rede neural usando o conjunto de dados iris para regressão do atributo petal width.\n",
        "\n",
        "**Dica**: Agora o problema é diferente, **desconsidere as classes**. Considere a saída do problema sendo o atributo do petal width.\n",
        "\n",
        "Especificamente, você fará o seguinte:\n",
        "> - Carregar o conjunto de dados\n",
        "> - Pré-processar os dados definindo as entradas e saída corretamente.\n",
        "> - Construir o modelo\n",
        "> - Definir hiperparâmetros\n",
        "> - Treinar e avaliar o modelo\n",
        "> - Realizar previsões com novos dados"
      ],
      "metadata": {
        "id": "nuZBXO38sIVw"
      }
    },
    {
      "cell_type": "code",
      "execution_count": null,
      "metadata": {
        "id": "drjBwV52rwsk"
      },
      "outputs": [],
      "source": [
        "import tensorflow as tf\n",
        "from tensorflow import keras\n",
        "from keras import layers\n",
        "\n",
        "import numpy as np\n",
        "import matplotlib.pyplot as plt\n",
        "import pandas as pd"
      ]
    },
    {
      "cell_type": "code",
      "source": [
        "# Importando o conjunto de dados do scikit-learn e outros pacotes úteis\n",
        "\n",
        "from sklearn.model_selection import train_test_split\n",
        "from sklearn.datasets import load_iris\n",
        "\n",
        "# Vamos definir uma semente aleatória para reprodutibilidade:\n",
        "seed = 11\n",
        "np.random.seed(seed)\n",
        "tf.random.set_seed(seed)"
      ],
      "metadata": {
        "id": "FRX8DMustDIz"
      },
      "execution_count": null,
      "outputs": []
    },
    {
      "cell_type": "code",
      "source": [
        "# Importando o dataset\n",
        "iris = load_iris()"
      ],
      "metadata": {
        "id": "tq1Olt_4tFcC"
      },
      "execution_count": null,
      "outputs": []
    },
    {
      "cell_type": "markdown",
      "source": [
        "A partir daqui é com você!"
      ],
      "metadata": {
        "id": "f-5p_Zgtt-Wr"
      }
    },
    {
      "cell_type": "code",
      "source": [
        ""
      ],
      "metadata": {
        "id": "LtgcQpC4ujqj"
      },
      "execution_count": null,
      "outputs": []
    }
  ]
}