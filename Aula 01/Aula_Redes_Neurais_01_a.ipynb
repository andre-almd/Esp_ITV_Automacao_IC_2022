{
  "cells": [
    {
      "cell_type": "markdown",
      "source": [
        "<center>\n",
        "\n",
        "<img src=\"https://www.itv.org/wp-content/uploads/2021/10/logo-itv.svg\" width=\"500\" height=\"200\" />\n",
        "\n",
        "</center>"
      ],
      "metadata": {
        "id": "AtXEo8fnwZDX"
      },
      "id": "AtXEo8fnwZDX"
    },
    {
      "cell_type": "markdown",
      "id": "58f33f7b",
      "metadata": {
        "id": "58f33f7b"
      },
      "source": [
        "# <center> **Especialização em Automação** </center>\n",
        "\n",
        "\n",
        "## <center> **Inteligência Computacional** </center>\n",
        "\n",
        "---\n",
        "### <center> **Redes Neurais** </center>\n",
        "\n",
        "### <center> Professor: André Almeida Santos</center>\n",
        "\n",
        "---"
      ]
    },
    {
      "cell_type": "code",
      "execution_count": null,
      "id": "6ef7af7d",
      "metadata": {
        "id": "6ef7af7d"
      },
      "outputs": [],
      "source": [
        "import tensorflow as tf\n",
        "from tensorflow import keras\n",
        "from tensorflow.keras import layers\n",
        "\n",
        "import numpy as np\n",
        "import matplotlib.pyplot as plt\n",
        "\n",
        "tf.random.set_seed(23)"
      ]
    },
    {
      "cell_type": "markdown",
      "id": "e69020cd",
      "metadata": {
        "id": "e69020cd"
      },
      "source": [
        "A API funcional Keras é uma forma de criar modelos mais flexíveis. A API funcional pode lidar com modelos com topologia não linear, camadas compartilhadas e até várias entradas ou saídas.\n",
        "\n",
        "A API funcional é uma forma de construir grafos de camadas."
      ]
    },
    {
      "cell_type": "markdown",
      "id": "35ff55c0",
      "metadata": {
        "id": "35ff55c0"
      },
      "source": [
        "Vamos ver um exemplo para a porta lógica AND.\n",
        "\n",
        "<center>\n",
        "\n",
        "<img src=\"https://www.allaboutcircuits.com/uploads/articles/two-input-and-gate-truth-table.jpg\"/>\n",
        "\n",
        "</center>"
      ]
    },
    {
      "cell_type": "code",
      "execution_count": null,
      "id": "953dd584",
      "metadata": {
        "id": "953dd584"
      },
      "outputs": [],
      "source": [
        "x_train = np.array([[0, 0],\n",
        "                    [0, 1],\n",
        "                    [1, 0],\n",
        "                    [1, 1]])"
      ]
    },
    {
      "cell_type": "code",
      "execution_count": null,
      "id": "15091365",
      "metadata": {
        "id": "15091365"
      },
      "outputs": [],
      "source": [
        "y_train = np.array([[0],\n",
        "                    [0],\n",
        "                    [0],\n",
        "                    [1]])"
      ]
    },
    {
      "cell_type": "markdown",
      "id": "e75bdb89",
      "metadata": {
        "id": "e75bdb89"
      },
      "source": [
        "## Etapa de construção da rede"
      ]
    },
    {
      "cell_type": "markdown",
      "id": "8cb78b78",
      "metadata": {
        "id": "8cb78b78"
      },
      "source": [
        "### Comece criando um nó de entrada:"
      ]
    },
    {
      "cell_type": "code",
      "execution_count": null,
      "id": "28dacfe4",
      "metadata": {
        "id": "28dacfe4"
      },
      "outputs": [],
      "source": [
        "inputs = keras.Input(shape=(2,)) # A forma dos dados é definida como um vetor de 2 dimensões."
      ]
    },
    {
      "cell_type": "code",
      "execution_count": null,
      "id": "03434ea6",
      "metadata": {
        "id": "03434ea6"
      },
      "outputs": [],
      "source": [
        "print(f'Shape do input: {inputs.shape}')\n",
        "print(f'Tipo de dados do input: {inputs.dtype}')"
      ]
    },
    {
      "cell_type": "markdown",
      "id": "17e39a7d",
      "metadata": {
        "id": "17e39a7d"
      },
      "source": [
        "### Para criar um novo nó no grafo de camadas chame uma camada neste objeto de entrada\n",
        "\n",
        "A ação do método 'layers' é como desenhar uma seta de \"entradas\" para essa camada que você vai criar. Você está \"passando\" as entradas para a camada densa e obtém out_int como saída. Novas camadas intermediárias podem ser criadas da mesma forma."
      ]
    },
    {
      "cell_type": "code",
      "execution_count": null,
      "id": "6902edff",
      "metadata": {
        "id": "6902edff"
      },
      "outputs": [],
      "source": [
        "out_int = layers.Dense(3, activation=\"sigmoid\")(inputs)"
      ]
    },
    {
      "cell_type": "code",
      "execution_count": null,
      "id": "fe612299",
      "metadata": {
        "id": "fe612299"
      },
      "outputs": [],
      "source": [
        "outputs = layers.Dense(1)(out_int)"
      ]
    },
    {
      "cell_type": "markdown",
      "id": "b5629374",
      "metadata": {
        "id": "b5629374"
      },
      "source": [
        "### Neste ponto, você pode criar um Modelo especificando suas entradas e saídas no grafo de camadas"
      ]
    },
    {
      "cell_type": "code",
      "execution_count": null,
      "id": "a843db04",
      "metadata": {
        "id": "a843db04"
      },
      "outputs": [],
      "source": [
        "model = keras.Model(inputs=inputs, outputs=outputs, name=\"meu_primeiro_modelo\")"
      ]
    },
    {
      "cell_type": "markdown",
      "id": "58e52414",
      "metadata": {
        "id": "58e52414"
      },
      "source": [
        "#### Vamos verificar como é o resumo do modelo"
      ]
    },
    {
      "cell_type": "code",
      "execution_count": null,
      "id": "7f4c17ca",
      "metadata": {
        "id": "7f4c17ca"
      },
      "outputs": [],
      "source": [
        "model.summary()"
      ]
    },
    {
      "cell_type": "markdown",
      "id": "f4bc6be9",
      "metadata": {
        "id": "f4bc6be9"
      },
      "source": [
        "#### Você também pode plotar o modelo como um grafo"
      ]
    },
    {
      "cell_type": "code",
      "execution_count": null,
      "id": "7d2519e3",
      "metadata": {
        "id": "7d2519e3"
      },
      "outputs": [],
      "source": [
        "keras.utils.plot_model(model, \"meu_primeiro_modelo.png\")"
      ]
    },
    {
      "cell_type": "code",
      "execution_count": null,
      "id": "6f7099e7",
      "metadata": {
        "id": "6f7099e7"
      },
      "outputs": [],
      "source": [
        "keras.utils.plot_model(model, \"meu_primeiro_modelo_com_informação_do_shape.png\", show_shapes=True)"
      ]
    },
    {
      "cell_type": "markdown",
      "id": "73731f19",
      "metadata": {
        "id": "73731f19"
      },
      "source": [
        "## Etapas de treinamento\n",
        "\n",
        "Ver [documentação](https://keras.io/api/models/model_training_apis/):"
      ]
    },
    {
      "cell_type": "markdown",
      "id": "2301d2c0",
      "metadata": {
        "id": "2301d2c0"
      },
      "source": [
        "### Configure o modelo para treinamento com o método Compile:\n",
        "\n",
        "Aqui definimos a função de erro, o algoritmo de atualização da rede e a métrica de análise do treinameno."
      ]
    },
    {
      "cell_type": "code",
      "execution_count": null,
      "id": "0026f83d",
      "metadata": {
        "id": "0026f83d"
      },
      "outputs": [],
      "source": [
        "model.compile(\n",
        "    loss=tf.keras.losses.BinaryCrossentropy(),\n",
        "    optimizer=tf.keras.optimizers.SGD(learning_rate=0.1),\n",
        "    metrics=[\"accuracy\"],\n",
        ")"
      ]
    },
    {
      "cell_type": "markdown",
      "id": "296f71c8",
      "metadata": {
        "id": "296f71c8"
      },
      "source": [
        "### Treinando o modelo com o método fit:\n",
        "\n",
        "Aqui treinamos o modelo para um número fixo de épocas (iterações em um conjunto de dados)."
      ]
    },
    {
      "cell_type": "code",
      "execution_count": null,
      "id": "ad9cd08d",
      "metadata": {
        "id": "ad9cd08d"
      },
      "outputs": [],
      "source": [
        "treino = model.fit(x_train, y_train, batch_size=4, epochs=400)"
      ]
    },
    {
      "cell_type": "markdown",
      "source": [
        "Plotando os resultados com os dados do histórico de treino"
      ],
      "metadata": {
        "id": "b68x0WWZ1L36"
      },
      "id": "b68x0WWZ1L36"
    },
    {
      "cell_type": "code",
      "source": [
        "plt.title('model accuracy')\n",
        "plt.ylabel('accuracy')\n",
        "plt.xlabel('epoch')\n",
        "plt.plot(treino.history['accuracy'])"
      ],
      "metadata": {
        "id": "G49egGu8yspb"
      },
      "id": "G49egGu8yspb",
      "execution_count": null,
      "outputs": []
    },
    {
      "cell_type": "code",
      "source": [
        "plt.title('model loss')\n",
        "plt.ylabel('loss')\n",
        "plt.xlabel('epoch')\n",
        "plt.plot(treino.history['loss'])"
      ],
      "metadata": {
        "id": "F7f5x1qc1DlR"
      },
      "id": "F7f5x1qc1DlR",
      "execution_count": null,
      "outputs": []
    },
    {
      "cell_type": "markdown",
      "id": "3988ad5d",
      "metadata": {
        "id": "3988ad5d"
      },
      "source": [
        "### Avaliando o modelo com o método evaluate:\n",
        "\n",
        "Retorna o valor de perda e os valores de métricas para o modelo no modo de teste."
      ]
    },
    {
      "cell_type": "code",
      "execution_count": null,
      "id": "2ef66f8d",
      "metadata": {
        "id": "2ef66f8d"
      },
      "outputs": [],
      "source": [
        "# Nesse exemplo iremos o próprio x_train e y_train, mas isso não é correto. É preciso ter um dataset separado para avaliação.\n",
        "\n",
        "test_scores = model.evaluate(x_train, y_train, verbose=2)"
      ]
    },
    {
      "cell_type": "code",
      "execution_count": null,
      "id": "d6ca2f34",
      "metadata": {
        "id": "d6ca2f34"
      },
      "outputs": [],
      "source": [
        "print(\"Test loss:\", test_scores[0])\n",
        "print(\"Test accuracy:\", test_scores[1])"
      ]
    },
    {
      "cell_type": "markdown",
      "id": "73001e9e",
      "metadata": {
        "id": "73001e9e"
      },
      "source": [
        "### Realizando novas predições com o método predict:\n",
        "\n",
        "Gera previsões de saída para as amostras de entrada."
      ]
    },
    {
      "cell_type": "code",
      "execution_count": null,
      "id": "2c00c1e9",
      "metadata": {
        "id": "2c00c1e9"
      },
      "outputs": [],
      "source": [
        "pred = model.predict([[1,0]])\n",
        "print(f'Predição: {pred}')"
      ]
    },
    {
      "cell_type": "code",
      "execution_count": null,
      "id": "4c073ca0",
      "metadata": {
        "id": "4c073ca0"
      },
      "outputs": [],
      "source": [
        "# Coletando apenas o valor pelo índice correto\n",
        "\n",
        "pred_logit = model.predict([[1,0]])[0][0]\n",
        "print(f'Valor predito: {pred_logit}')"
      ]
    },
    {
      "cell_type": "code",
      "execution_count": null,
      "id": "6c0b0556",
      "metadata": {
        "id": "6c0b0556"
      },
      "outputs": [],
      "source": [
        "# Aplicando a função sigmoid para definr a probabilidade\n",
        "\n",
        "pred_porc = tf.math.sigmoid(pred_logit).numpy()\n",
        "print(f'Probabilidade do valor predito de ser a classe positiva: {pred_porc}')"
      ]
    },
    {
      "cell_type": "code",
      "execution_count": null,
      "id": "2e354808",
      "metadata": {
        "id": "2e354808"
      },
      "outputs": [],
      "source": [
        "# Teste condicional com a probabilidade\n",
        "\n",
        "if pred_porc > 0.5:\n",
        "    print('Classe 1')\n",
        "else:\n",
        "    print('Classe 0')"
      ]
    },
    {
      "cell_type": "markdown",
      "id": "7c1c4c3f",
      "metadata": {
        "id": "7c1c4c3f"
      },
      "source": [
        "#### OBS: Para problemas multiclasse use a função de ativaçao [softmax](https://www.tensorflow.org/api_docs/python/tf/nn/softmax) na última camada para calcular as probabilidades e definir qual a saída correta."
      ]
    },
    {
      "cell_type": "markdown",
      "source": [
        "## Acessando os pesos do modelo"
      ],
      "metadata": {
        "id": "Gs1Bushlked7"
      },
      "id": "Gs1Bushlked7"
    },
    {
      "cell_type": "code",
      "source": [
        "model.weights"
      ],
      "metadata": {
        "id": "4mbJJfsspn78"
      },
      "id": "4mbJJfsspn78",
      "execution_count": null,
      "outputs": []
    },
    {
      "cell_type": "markdown",
      "id": "73c2e4a7",
      "metadata": {
        "id": "73c2e4a7"
      },
      "source": [
        "## Salvando e carregando o modelo treinado"
      ]
    },
    {
      "cell_type": "markdown",
      "source": [
        "### Salvando"
      ],
      "metadata": {
        "id": "MPuvX4NLrgiR"
      },
      "id": "MPuvX4NLrgiR"
    },
    {
      "cell_type": "code",
      "execution_count": null,
      "id": "14a454c3",
      "metadata": {
        "id": "14a454c3"
      },
      "outputs": [],
      "source": [
        "model.save('my_model')"
      ]
    },
    {
      "cell_type": "code",
      "execution_count": null,
      "id": "325ec3b8",
      "metadata": {
        "id": "325ec3b8"
      },
      "outputs": [],
      "source": [
        ""
      ]
    },
    {
      "cell_type": "markdown",
      "source": [
        "### Carregando"
      ],
      "metadata": {
        "id": "Qz8cSUhVrdDZ"
      },
      "id": "Qz8cSUhVrdDZ"
    },
    {
      "cell_type": "code",
      "source": [
        "loaded_model = tf.keras.models.load_model('my_model')"
      ],
      "metadata": {
        "id": "F32JlX6Kriza"
      },
      "id": "F32JlX6Kriza",
      "execution_count": null,
      "outputs": []
    },
    {
      "cell_type": "code",
      "source": [
        "# Realizando predições\n",
        "\n",
        "pred_logit = loaded_model.predict([[1,0]])[0][0]\n",
        "print(f'Valor predito: {pred_logit}')\n",
        "\n",
        "pred_porc = tf.math.sigmoid(pred_logit).numpy()\n",
        "print(f'Probabilidade do valor predito de ser a classe positiva: {pred_porc}')\n",
        "\n",
        "if pred_porc > 0.5:\n",
        "    print('Classe 1')\n",
        "else:\n",
        "    print('Classe 0')"
      ],
      "metadata": {
        "id": "8NqTNX34r_o-"
      },
      "id": "8NqTNX34r_o-",
      "execution_count": null,
      "outputs": []
    },
    {
      "cell_type": "code",
      "source": [
        ""
      ],
      "metadata": {
        "id": "NSVrcKZYsb1y"
      },
      "id": "NSVrcKZYsb1y",
      "execution_count": null,
      "outputs": []
    }
  ],
  "metadata": {
    "kernelspec": {
      "display_name": "Python 3",
      "language": "python",
      "name": "python3"
    },
    "language_info": {
      "codemirror_mode": {
        "name": "ipython",
        "version": 3
      },
      "file_extension": ".py",
      "mimetype": "text/x-python",
      "name": "python",
      "nbconvert_exporter": "python",
      "pygments_lexer": "ipython3",
      "version": "3.8.8"
    },
    "colab": {
      "name": "Aula - Redes Neurais 01-a.ipynb",
      "provenance": [],
      "collapsed_sections": []
    }
  },
  "nbformat": 4,
  "nbformat_minor": 5
}