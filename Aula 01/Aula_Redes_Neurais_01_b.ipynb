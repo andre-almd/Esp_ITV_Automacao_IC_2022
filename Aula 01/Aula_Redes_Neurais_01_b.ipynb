{
  "nbformat": 4,
  "nbformat_minor": 0,
  "metadata": {
    "colab": {
      "name": "Aula - Redes Neurais 01-b.ipynb",
      "provenance": [],
      "collapsed_sections": [
        "y2VPpS0ZXFZ-"
      ]
    },
    "kernelspec": {
      "name": "python3",
      "display_name": "Python 3"
    },
    "language_info": {
      "name": "python"
    }
  },
  "cells": [
    {
      "cell_type": "markdown",
      "source": [
        "<center>\n",
        "\n",
        "<img src=\"https://www.itv.org/wp-content/uploads/2021/10/logo-itv.svg\" width=\"500\" height=\"200\" />\n",
        "\n",
        "</center>"
      ],
      "metadata": {
        "id": "HxAk43gFz7m0"
      }
    },
    {
      "cell_type": "markdown",
      "source": [
        "# <center> **Especialização em Automação** </center>\n",
        "\n",
        "\n",
        "## <center> **Inteligência Computacional** </center>\n",
        "\n",
        "---\n",
        "### <center> **Redes Neurais** </center>\n",
        "\n",
        "### <center> Professor: André Almeida Santos</center>\n",
        "\n",
        "---"
      ],
      "metadata": {
        "id": "_gb0NGvd1ZoX"
      }
    },
    {
      "cell_type": "markdown",
      "source": [
        "# Problema de classificação com dataset de flores Iris\n",
        "\n",
        "Para este problema de classificação, construiremos uma rede neural artificial totalmente conectada.\n",
        "\n",
        "**Declaração do problema:**\n",
        "\n",
        "Antes de abordarmos o problema, vamos entender o que faremos:\n",
        "\n",
        "- Se alimentarmos nossa rede neural com os dados de Iris, o modelo deverá ser capaz de determinar de que espécie se trata.\n",
        "\n",
        "**O que precisamos fazer?**\n",
        "\n",
        "Treinar um modelo de rede neural usando um conjunto de dados conhecido: [Iris flower dataset](https://en.wikipedia.org/wiki/Iris_flower_data_set).\n",
        "\n",
        "Especificamente, faremos o seguinte:\n",
        "> - Carregar o conjunto de dados\n",
        "> - Pré-processar os dados\n",
        "> - Construir o modelo\n",
        "> - Definir hiperparâmetros\n",
        "> - Treinar e avaliar o modelo\n",
        "> - Salvar e baixar o modelo treinado\n",
        "> - Realizar previsões com novos dados"
      ],
      "metadata": {
        "id": "bvVf_d5d0NkR"
      }
    },
    {
      "cell_type": "code",
      "execution_count": null,
      "metadata": {
        "id": "lx_-DDEAz2AE"
      },
      "outputs": [],
      "source": [
        "import tensorflow as tf\n",
        "from tensorflow import keras\n",
        "from tensorflow.keras import layers\n",
        "\n",
        "import numpy as np\n",
        "import matplotlib.pyplot as plt\n",
        "import pandas as pd"
      ]
    },
    {
      "cell_type": "markdown",
      "source": [
        "## Importando o dataset"
      ],
      "metadata": {
        "id": "oRr7a-ud1ueB"
      }
    },
    {
      "cell_type": "code",
      "source": [
        "# Importando o conjunto de dados do scikit-learn e outros pacotes úteis\n",
        "\n",
        "from sklearn.model_selection import train_test_split\n",
        "from sklearn.datasets import load_iris\n",
        "\n",
        "# Vamos definir uma semente aleatória para reprodutibilidade:\n",
        "seed = 11\n",
        "np.random.seed(seed)"
      ],
      "metadata": {
        "id": "1hZpfnRG0il9"
      },
      "execution_count": null,
      "outputs": []
    },
    {
      "cell_type": "code",
      "source": [
        "# Importando o dataset\n",
        "iris = load_iris()"
      ],
      "metadata": {
        "id": "MeiI88MG2I8E"
      },
      "execution_count": null,
      "outputs": []
    },
    {
      "cell_type": "code",
      "source": [
        "print(iris)"
      ],
      "metadata": {
        "id": "RtQeLtvg2NCN"
      },
      "execution_count": null,
      "outputs": []
    },
    {
      "cell_type": "code",
      "source": [
        "iris.feature_names"
      ],
      "metadata": {
        "id": "46vogfnG3nv0"
      },
      "execution_count": null,
      "outputs": []
    },
    {
      "cell_type": "code",
      "source": [
        "iris.data"
      ],
      "metadata": {
        "id": "qnG3E9Hp2OaW"
      },
      "execution_count": null,
      "outputs": []
    },
    {
      "cell_type": "code",
      "source": [
        "iris.target"
      ],
      "metadata": {
        "id": "V6vRct1U3dDg"
      },
      "execution_count": null,
      "outputs": []
    },
    {
      "cell_type": "code",
      "source": [
        "iris.target_names"
      ],
      "metadata": {
        "id": "0rPdtgTz3py3"
      },
      "execution_count": null,
      "outputs": []
    },
    {
      "cell_type": "markdown",
      "source": [
        "Vamos salvar os nomes das classes em uma lista para uso futuro"
      ],
      "metadata": {
        "id": "jRlAfUesDF7A"
      }
    },
    {
      "cell_type": "code",
      "source": [
        "classes = iris.target_names"
      ],
      "metadata": {
        "id": "9jp42ejCDIkN"
      },
      "execution_count": null,
      "outputs": []
    },
    {
      "cell_type": "markdown",
      "source": [
        "### usando a biblioteca [pandas](https://pandas.pydata.org/) para carregar os dados de uma fonte online no formato csv"
      ],
      "metadata": {
        "id": "nY2dd6MEDVPb"
      }
    },
    {
      "cell_type": "code",
      "source": [
        "# Usando o pandas para carregar o dataset\n",
        "\n",
        "iris_csv = pd.read_csv('https://gist.githubusercontent.com/netj/8836201/raw/6f9306ad21398ea43cba4f7d537619d0e07d5ae3/iris.csv')"
      ],
      "metadata": {
        "id": "IBAa7djv35J3"
      },
      "execution_count": null,
      "outputs": []
    },
    {
      "cell_type": "code",
      "source": [
        "iris_csv"
      ],
      "metadata": {
        "id": "27W8ynlM5RfQ"
      },
      "execution_count": null,
      "outputs": []
    },
    {
      "cell_type": "markdown",
      "source": [
        "Podemos usar o iris ou iris_csv como nossa base de dados. Não há diferença no dataset. \n",
        "\n",
        "O objetivo de usar o pandas foi demonstrar como carregar dados de fontes csv.\n",
        "\n",
        "**Daqui em diante usaremos o iris_csv.**"
      ],
      "metadata": {
        "id": "WhcXWyfc62Pm"
      }
    },
    {
      "cell_type": "code",
      "source": [
        "iris_csv.describe()"
      ],
      "metadata": {
        "id": "r75fhXhA5TzI"
      },
      "execution_count": null,
      "outputs": []
    },
    {
      "cell_type": "markdown",
      "source": [
        "## Pré processamento dos dados\n",
        "\n",
        "A etapa de pré-processamento é muito importante em muitos casos. \n",
        "\n",
        "Para este caso, precisaremos apenas fazer uma transformação muito simples: um processo de **one hot encode**, ou, codificação a quente."
      ],
      "metadata": {
        "id": "1mBWbRV27dMY"
      }
    },
    {
      "cell_type": "code",
      "source": [
        "# Definindo os dados de entrada\n",
        "X = iris_csv.iloc[:, :4]"
      ],
      "metadata": {
        "id": "Fl3RImoE7f0r"
      },
      "execution_count": null,
      "outputs": []
    },
    {
      "cell_type": "code",
      "source": [
        "X"
      ],
      "metadata": {
        "id": "eYP1CTDl8K8_"
      },
      "execution_count": null,
      "outputs": []
    },
    {
      "cell_type": "code",
      "source": [
        "# Definindo os dados de saída\n",
        "y = iris_csv.iloc[:, -1]"
      ],
      "metadata": {
        "id": "wW5f_0dO8LWM"
      },
      "execution_count": null,
      "outputs": []
    },
    {
      "cell_type": "code",
      "source": [
        "y"
      ],
      "metadata": {
        "id": "LguQ0fOq9Uof"
      },
      "execution_count": null,
      "outputs": []
    },
    {
      "cell_type": "code",
      "source": [
        "# Alterando as saídas com o módulo LabelBinarizer para criar o One hot encode\n",
        "from sklearn.preprocessing import LabelBinarizer\n",
        "\n",
        "# Criando o enconder\n",
        "enc = LabelBinarizer()\n",
        "enc.fit(y)"
      ],
      "metadata": {
        "id": "iN6CtZ0R9U6N"
      },
      "execution_count": null,
      "outputs": []
    },
    {
      "cell_type": "code",
      "source": [
        "# Transformando os dados de y\n",
        "y = enc.transform(y)"
      ],
      "metadata": {
        "id": "x_wxBXjxBsGM"
      },
      "execution_count": null,
      "outputs": []
    },
    {
      "cell_type": "code",
      "source": [
        "y"
      ],
      "metadata": {
        "id": "Sjw30G0C9cn2"
      },
      "execution_count": null,
      "outputs": []
    },
    {
      "cell_type": "code",
      "source": [
        "# Separandos os dados em treino e validação\n",
        "X_train, X_val, y_train, y_val = train_test_split(X, y, test_size=0.3, random_state=seed, stratify=y)"
      ],
      "metadata": {
        "id": "GyfYg9UhAEht"
      },
      "execution_count": null,
      "outputs": []
    },
    {
      "cell_type": "code",
      "source": [
        "# Verificando a divisão dos dados\n",
        "\n",
        "print(f'X_train: {X_train.shape}')\n",
        "print(f'X_val: {X_val.shape}')\n",
        "print(f'y_train: {y_train.shape}')\n",
        "print(f'y_val: {y_val.shape}')"
      ],
      "metadata": {
        "id": "K3myCpFJDyKL"
      },
      "execution_count": null,
      "outputs": []
    },
    {
      "cell_type": "code",
      "source": [
        "y_val"
      ],
      "metadata": {
        "id": "R1CyaFyvEUZN"
      },
      "execution_count": null,
      "outputs": []
    },
    {
      "cell_type": "markdown",
      "source": [
        "## Construindo o modelo e definindo os hiperparâmetos"
      ],
      "metadata": {
        "id": "OxDQbfjVGdbN"
      }
    },
    {
      "cell_type": "code",
      "source": [
        "# Definindo o input\n",
        "inputs = keras.Input(shape=(4,), name='entrada')"
      ],
      "metadata": {
        "id": "uB67paafEbRw"
      },
      "execution_count": null,
      "outputs": []
    },
    {
      "cell_type": "code",
      "source": [
        "# Definindo as camadas intermediárias\n",
        "out_int = layers.Dense(5, activation=\"sigmoid\", name='int_1')(inputs)"
      ],
      "metadata": {
        "id": "hT8rfV5aGuC6"
      },
      "execution_count": null,
      "outputs": []
    },
    {
      "cell_type": "code",
      "source": [
        "outputs = layers.Dense(3, name='saida')(out_int)"
      ],
      "metadata": {
        "id": "KLPwdgYKG-wI"
      },
      "execution_count": null,
      "outputs": []
    },
    {
      "cell_type": "code",
      "source": [
        "modelo = keras.Model(inputs=inputs, outputs=outputs, name=\"modelo_iris\")"
      ],
      "metadata": {
        "id": "aJpkR7Z5HHNr"
      },
      "execution_count": null,
      "outputs": []
    },
    {
      "cell_type": "code",
      "source": [
        "modelo.summary()"
      ],
      "metadata": {
        "id": "nuKrYv0iHMTs"
      },
      "execution_count": null,
      "outputs": []
    },
    {
      "cell_type": "code",
      "source": [
        "keras.utils.plot_model(modelo, \"meu_primeiro_modelo_com_informação_do_shape.png\", show_shapes=True)"
      ],
      "metadata": {
        "id": "00m8bbFfHPiq"
      },
      "execution_count": null,
      "outputs": []
    },
    {
      "cell_type": "code",
      "source": [
        "modelo.compile(\n",
        "    loss=tf.keras.losses.CategoricalCrossentropy(),\n",
        "    optimizer=tf.keras.optimizers.SGD(learning_rate=0.01),\n",
        "    metrics=[['accuracy', tf.keras.metrics.Precision(), tf.keras.metrics.Recall()]],\n",
        ")"
      ],
      "metadata": {
        "id": "odhKhmszHYjo"
      },
      "execution_count": null,
      "outputs": []
    },
    {
      "cell_type": "markdown",
      "source": [
        "## Treinando o modelo"
      ],
      "metadata": {
        "id": "12G6Yc6MMbcM"
      }
    },
    {
      "cell_type": "code",
      "source": [
        "treino = modelo.fit(X_train, y_train, batch_size=4, validation_data=(X_val, y_val), epochs=200)"
      ],
      "metadata": {
        "id": "VN3khVLrIXjz"
      },
      "execution_count": null,
      "outputs": []
    },
    {
      "cell_type": "markdown",
      "source": [
        "Plotando os resultados com os dados do histórico de treino"
      ],
      "metadata": {
        "id": "Ub17yuLXMfbG"
      }
    },
    {
      "cell_type": "code",
      "source": [
        "plt.title('Acurácia do modelo durante treino e validação')\n",
        "plt.ylabel('Acurácia')\n",
        "plt.xlabel('Época')\n",
        "plt.plot(treino.history['accuracy'], label='Treino')\n",
        "plt.plot(treino.history['val_accuracy'], label='Validação')\n",
        "plt.legend()\n",
        "plt.show()"
      ],
      "metadata": {
        "id": "o9uMoDcjMgpZ"
      },
      "execution_count": null,
      "outputs": []
    },
    {
      "cell_type": "code",
      "source": [
        "plt.title('Erro do modelo durante treino e validação')\n",
        "plt.ylabel('Erro')\n",
        "plt.xlabel('Época')\n",
        "plt.plot(treino.history['loss'], label='Treino')\n",
        "plt.plot(treino.history['val_loss'], label='Validação')\n",
        "plt.legend()\n",
        "plt.show()"
      ],
      "metadata": {
        "id": "0GtJwCGkMjMC"
      },
      "execution_count": null,
      "outputs": []
    },
    {
      "cell_type": "markdown",
      "source": [
        "### Avaliando o modelo treinado"
      ],
      "metadata": {
        "id": "-N-gR_CqOy91"
      }
    },
    {
      "cell_type": "code",
      "source": [
        "val_scores = modelo.evaluate(X_val, y_val, verbose=2)"
      ],
      "metadata": {
        "id": "iNenA2ufNbLI"
      },
      "execution_count": null,
      "outputs": []
    },
    {
      "cell_type": "code",
      "source": [
        "print(\"Erro nos dados de validação:\", val_scores[0])\n",
        "print(\"Acurácia nos dados de validação:\", val_scores[1])"
      ],
      "metadata": {
        "id": "gXJk_D52O6la"
      },
      "execution_count": null,
      "outputs": []
    },
    {
      "cell_type": "code",
      "source": [
        ""
      ],
      "metadata": {
        "id": "l4_hpmMYPQyb"
      },
      "execution_count": null,
      "outputs": []
    },
    {
      "cell_type": "markdown",
      "source": [
        "## Salvando e carregando o modelo"
      ],
      "metadata": {
        "id": "w7ao8e1FRqDM"
      }
    },
    {
      "cell_type": "code",
      "source": [
        "modelo.save('modelo_iris')"
      ],
      "metadata": {
        "id": "xJrP3U8bRrbU"
      },
      "execution_count": null,
      "outputs": []
    },
    {
      "cell_type": "markdown",
      "source": [
        "### Outras formas de salvar o modelo"
      ],
      "metadata": {
        "id": "y2VPpS0ZXFZ-"
      }
    },
    {
      "cell_type": "code",
      "source": [
        "# Serializando o modelo com JSON. Aqui é salvo apenas o arquitetura do modelo.\n",
        "modelo_json = modelo.to_json()\n",
        "with open(\"iris_model.json\", \"w\") as json_file:\n",
        "    json_file.write(modelo_json)"
      ],
      "metadata": {
        "id": "ny-mfaPSXEyj"
      },
      "execution_count": null,
      "outputs": []
    },
    {
      "cell_type": "code",
      "source": [
        "# Serializar os pesos para o formato HDF5. Aqui é salvo todos os parâmetros do modelo. \n",
        "modelo.save_weights(\"iris_model.h5\")\n",
        "print(\"Model saved to disk.\")"
      ],
      "metadata": {
        "id": "431-3cESXdfe"
      },
      "execution_count": null,
      "outputs": []
    },
    {
      "cell_type": "markdown",
      "source": [
        "### Carregando"
      ],
      "metadata": {
        "id": "UaLlLsUWR00r"
      }
    },
    {
      "cell_type": "code",
      "source": [
        "loaded_model = tf.keras.models.load_model('modelo_iris')"
      ],
      "metadata": {
        "id": "a-oEncb0Ru0o"
      },
      "execution_count": null,
      "outputs": []
    },
    {
      "cell_type": "markdown",
      "source": [
        "## Realizando novas predições\n",
        "\n",
        "Vamos criar os novos dados para gerar as predições"
      ],
      "metadata": {
        "id": "lWf6L8dpR95_"
      }
    },
    {
      "cell_type": "code",
      "source": [
        "# Dados de entrada\n",
        "\n",
        "sepal_length = 0\n",
        "sepal_width = 0\n",
        "petal_length = 0\n",
        "petal_width = 0"
      ],
      "metadata": {
        "id": "Lt_eX9yKR4l1"
      },
      "execution_count": null,
      "outputs": []
    },
    {
      "cell_type": "code",
      "source": [
        "entrada = [[sepal_length, sepal_width, petal_length, petal_width]]"
      ],
      "metadata": {
        "id": "acDMmrw2Scoy"
      },
      "execution_count": null,
      "outputs": []
    },
    {
      "cell_type": "code",
      "source": [
        "nova_predicao = loaded_model.predict(entrada)"
      ],
      "metadata": {
        "id": "jesjpmPSSqVb"
      },
      "execution_count": null,
      "outputs": []
    },
    {
      "cell_type": "code",
      "source": [
        "#Quem é a nova predição???\n",
        "nova_predicao"
      ],
      "metadata": {
        "id": "cjc9U85mSxuu"
      },
      "execution_count": null,
      "outputs": []
    },
    {
      "cell_type": "markdown",
      "source": [
        "Temos que aplicar uma função que identifica o maior valor e a sua posição, pois esse valor representa o **neurônio que foi mais ativado pelo dado de entrada**. "
      ],
      "metadata": {
        "id": "M4zRtDB3TPCG"
      }
    },
    {
      "cell_type": "code",
      "source": [
        "valor, idx = tf.math.top_k(nova_predicao)\n",
        "\n",
        "# Valor recebe o valor da maior probabilidade e idx recebe o inidice do maior valor"
      ],
      "metadata": {
        "id": "JIfqbCSdSyuu"
      },
      "execution_count": null,
      "outputs": []
    },
    {
      "cell_type": "code",
      "source": [
        "valor"
      ],
      "metadata": {
        "id": "_bgL1zqfUkhc"
      },
      "execution_count": null,
      "outputs": []
    },
    {
      "cell_type": "code",
      "source": [
        "idx.numpy()"
      ],
      "metadata": {
        "id": "B10ar1qYT0rs"
      },
      "execution_count": null,
      "outputs": []
    },
    {
      "cell_type": "code",
      "source": [
        "# Com isso é possível acessar diretamente uma posição na lista classes\n",
        "\n",
        "classes[idx.numpy()[0][0]]"
      ],
      "metadata": {
        "id": "MzBua2rTVz00"
      },
      "execution_count": null,
      "outputs": []
    },
    {
      "cell_type": "markdown",
      "source": [
        "Formatando uma mensagem após a predição"
      ],
      "metadata": {
        "id": "87pVNvzhVI2N"
      }
    },
    {
      "cell_type": "code",
      "source": [
        "# Entada dos dados\n",
        "\n",
        "sepal_length = 5\n",
        "sepal_width = 3\n",
        "petal_length = 5\n",
        "petal_width = 1.9\n",
        "\n",
        "entrada = [[sepal_length, sepal_width, petal_length, petal_width]]\n",
        "\n",
        "# predição\n",
        "nova_predicao = loaded_model.predict(entrada)\n",
        "\n",
        "valor, idx = tf.math.top_k(nova_predicao)\n",
        "\n",
        "# Formatação da mensagem ao usuário\n",
        "print(f'Tipo de iris predita é: {classes[idx.numpy()[0][0]]}')"
      ],
      "metadata": {
        "id": "D1WfO23nT1Y0"
      },
      "execution_count": null,
      "outputs": []
    },
    {
      "cell_type": "code",
      "source": [
        ""
      ],
      "metadata": {
        "id": "qJw3wqZbWUEF"
      },
      "execution_count": null,
      "outputs": []
    }
  ]
}